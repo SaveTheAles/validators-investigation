{
 "cells": [
  {
   "cell_type": "markdown",
   "metadata": {},
   "source": [
    "# Preparations \n",
    "use `shift+enter` to execute command in the line. The `number` in the square brackets (f.e. In [23]:) means command executed. The In [\\*] status means the command processed.  "
   ]
  },
  {
   "cell_type": "code",
   "execution_count": null,
   "metadata": {},
   "outputs": [],
   "source": [
    "import os"
   ]
  },
  {
   "cell_type": "code",
   "execution_count": null,
   "metadata": {},
   "outputs": [],
   "source": [
    "! pip install tqdm"
   ]
  },
  {
   "cell_type": "code",
   "execution_count": null,
   "metadata": {},
   "outputs": [],
   "source": [
    "! pip install plotly"
   ]
  },
  {
   "cell_type": "code",
   "execution_count": null,
   "metadata": {},
   "outputs": [],
   "source": [
    "! pip install pymongo"
   ]
  },
  {
   "cell_type": "code",
   "execution_count": null,
   "metadata": {},
   "outputs": [],
   "source": [
    "from pymongo import MongoClient"
   ]
  },
  {
   "cell_type": "code",
   "execution_count": null,
   "metadata": {},
   "outputs": [],
   "source": [
    "import pandas as pd"
   ]
  },
  {
   "cell_type": "code",
   "execution_count": null,
   "metadata": {},
   "outputs": [],
   "source": [
    "from tqdm import tqdm_notebook"
   ]
  },
  {
   "cell_type": "code",
   "execution_count": null,
   "metadata": {},
   "outputs": [],
   "source": [
    "%matplotlib inline\n",
    "import matplotlib.pyplot as plt"
   ]
  },
  {
   "cell_type": "code",
   "execution_count": null,
   "metadata": {},
   "outputs": [],
   "source": [
    "import plotly.graph_objects as go"
   ]
  },
  {
   "cell_type": "code",
   "execution_count": null,
   "metadata": {},
   "outputs": [],
   "source": [
    "import numpy as np"
   ]
  },
  {
   "cell_type": "code",
   "execution_count": null,
   "metadata": {},
   "outputs": [],
   "source": [
    "import numpy as np\n",
    "import matplotlib.pyplot as plt\n",
    "from mpl_toolkits.mplot3d import Axes3D\n",
    "import matplotlib"
   ]
  },
  {
   "cell_type": "code",
   "execution_count": null,
   "metadata": {},
   "outputs": [],
   "source": [
    "from converter import base64_to_bech32\n",
    "import requests"
   ]
  },
  {
   "cell_type": "code",
   "execution_count": null,
   "metadata": {},
   "outputs": [],
   "source": [
    "from itertools import product"
   ]
  },
  {
   "cell_type": "code",
   "execution_count": null,
   "metadata": {},
   "outputs": [],
   "source": [
    "! pwd"
   ]
  },
  {
   "cell_type": "markdown",
   "metadata": {},
   "source": [
    "# Forming euler_validators_partial.csv file with validators precommits "
   ]
  },
  {
   "cell_type": "code",
   "execution_count": null,
   "metadata": {},
   "outputs": [],
   "source": [
    "client = MongoClient()\n",
    "collection = client.cyberd.validators"
   ]
  },
  {
   "cell_type": "code",
   "execution_count": null,
   "metadata": {},
   "outputs": [],
   "source": [
    "validators = list(collection.find({}))"
   ]
  },
  {
   "cell_type": "code",
   "execution_count": null,
   "metadata": {},
   "outputs": [],
   "source": [
    "validators_df = pd.DataFrame(validators)"
   ]
  },
  {
   "cell_type": "code",
   "execution_count": null,
   "metadata": {},
   "outputs": [],
   "source": [
    "# This command shown missed blocks before the last block. It's normal if it show you something. Make sure that it \n",
    "# doesn't contain blocks befor MAX_BLOCK it explicity\n",
    "set(range(0, validators_df[\"block\"].max())) - set(validators_df[\"block\"].unique()) - set([0,1])"
   ]
  },
  {
   "cell_type": "code",
   "execution_count": null,
   "metadata": {},
   "outputs": [],
   "source": [
    "# The MAX_BLOCK synced\n",
    "validators_df[\"block\"].max()"
   ]
  },
  {
   "cell_type": "code",
   "execution_count": null,
   "metadata": {
    "scrolled": true
   },
   "outputs": [],
   "source": [
    "# The MAX_BLOCK for calculations\n",
    "MAX_BLOCK = 7000000"
   ]
  },
  {
   "cell_type": "code",
   "execution_count": null,
   "metadata": {},
   "outputs": [],
   "source": [
    "MAX_BLOCK"
   ]
  },
  {
   "cell_type": "code",
   "execution_count": null,
   "metadata": {},
   "outputs": [],
   "source": [
    "validators_df[validators_df[\"block\"] <= MAX_BLOCK][[\"block\", \"validators\"]].sort_values(\"block\").to_csv(\"./euler_validators_partial.csv\")"
   ]
  },
  {
   "cell_type": "code",
   "execution_count": null,
   "metadata": {},
   "outputs": [],
   "source": [
    "validators_df = pd.read_csv(\"./euler_validators_partial.csv\")"
   ]
  },
  {
   "cell_type": "markdown",
   "metadata": {},
   "source": [
    "# Visualisation of validators work"
   ]
  },
  {
   "cell_type": "code",
   "execution_count": null,
   "metadata": {},
   "outputs": [],
   "source": [
    "validators_df[\"validators\"] = validators_df[\"validators\"].apply(lambda x: eval(x))"
   ]
  },
  {
   "cell_type": "code",
   "execution_count": null,
   "metadata": {},
   "outputs": [],
   "source": [
    "validators_df[\"validators\"] = validators_df[\"validators\"].apply(lambda x: set(x))"
   ]
  },
  {
   "cell_type": "code",
   "execution_count": null,
   "metadata": {},
   "outputs": [],
   "source": [
    "all_validators = set([v for v_list in validators_df[\"validators\"].tolist() for v in v_list])"
   ]
  },
  {
   "cell_type": "code",
   "execution_count": null,
   "metadata": {},
   "outputs": [],
   "source": [
    "validators_df[\"rounded_block\"] = validators_df[\"block\"].round(-4)"
   ]
  },
  {
   "cell_type": "code",
   "execution_count": null,
   "metadata": {},
   "outputs": [],
   "source": [
    "validators_df[\"rounded_block\"].nunique()"
   ]
  },
  {
   "cell_type": "code",
   "execution_count": null,
   "metadata": {},
   "outputs": [],
   "source": [
    "x = validators_df[\"rounded_block\"].unique().tolist()"
   ]
  },
  {
   "cell_type": "code",
   "execution_count": null,
   "metadata": {},
   "outputs": [],
   "source": [
    "all_y = []\n",
    "labels = []\n",
    "validator_traces = {}\n",
    "for validator in tqdm_notebook(all_validators):\n",
    "    validators_df[\"validator_mask\"] = validators_df[\"validators\"].apply(lambda x: validator in x).astype(float)\n",
    "    y = validators_df.groupby(\"rounded_block\")[\"validator_mask\"].sum().tolist()\n",
    "    all_y.append(y)\n",
    "    labels.append(validator)\n",
    "    validator_traces[validator] = y"
   ]
  },
  {
   "cell_type": "code",
   "execution_count": null,
   "metadata": {},
   "outputs": [],
   "source": [
    "cmap = matplotlib.cm.get_cmap('jet')"
   ]
  },
  {
   "cell_type": "code",
   "execution_count": null,
   "metadata": {},
   "outputs": [],
   "source": [
    "validator_colors = {\n",
    "    validator: \"rgba({})\".format(\", \".join([str(int(color * 255)) for color in cmap(np.sum(trace) / MAX_BLOCK)]))\n",
    "    for validator, trace in validator_traces.items()\n",
    "}"
   ]
  },
  {
   "cell_type": "code",
   "execution_count": null,
   "metadata": {},
   "outputs": [],
   "source": [
    "fig = go.Figure()\n",
    "\n",
    "for validator, y in validator_traces.items():\n",
    "    fig.add_trace(go.Scatter(\n",
    "        x=x, y=y,\n",
    "        mode='lines',\n",
    "        name=validator[0:5] + \"...\",\n",
    "        line=dict(width=0.5, color=validator_colors[validator]),\n",
    "        stackgroup='one',\n",
    "        groupnorm='percent'\n",
    "    ))\n",
    "\n",
    "fig.update_layout(\n",
    "    showlegend=True,\n",
    "    xaxis_type='linear',\n",
    "    yaxis=dict(\n",
    "        type='linear',\n",
    "        range=[1, 100],\n",
    "        ticksuffix='%'))\n",
    "\n",
    "fig.show()"
   ]
  },
  {
   "cell_type": "markdown",
   "metadata": {},
   "source": [
    "# Calculating rewards per each validator"
   ]
  },
  {
   "cell_type": "code",
   "execution_count": null,
   "metadata": {},
   "outputs": [],
   "source": [
    "# Amount of tokens allocated to validators lifetime rewards\n",
    "AMOUNT_OF_TOKENS = 2700000000000"
   ]
  },
  {
   "cell_type": "code",
   "execution_count": null,
   "metadata": {},
   "outputs": [],
   "source": [
    "validators_df[\"total_validators\"] = validators_df[\"validators\"].apply(lambda x: len(x))"
   ]
  },
  {
   "cell_type": "code",
   "execution_count": null,
   "metadata": {},
   "outputs": [],
   "source": [
    "b_step_simple_range = np.linspace(0, 1, 10) * AMOUNT_OF_TOKENS"
   ]
  },
  {
   "cell_type": "code",
   "execution_count": null,
   "metadata": {},
   "outputs": [],
   "source": [
    "def linear(block, k, b):\n",
    "    return k * block + b"
   ]
  },
  {
   "cell_type": "code",
   "execution_count": null,
   "metadata": {},
   "outputs": [],
   "source": [
    "validators_df[\"rounded_block\"] = validators_df[\"block\"].round(-5)"
   ]
  },
  {
   "cell_type": "code",
   "execution_count": null,
   "metadata": {
    "scrolled": true
   },
   "outputs": [],
   "source": [
    "all_rewards = {}\n",
    "\n",
    "for b in tqdm_notebook(b_step_simple_range):\n",
    "    validators_df[\"total_reward\"] = validators_df[\"block\"].apply(lambda x: linear(x, 1, b)) \n",
    "    validators_df[\"validator_reward\"] = validators_df[\"total_reward\"] / validators_df[\"total_validators\"] / validators_df[\"total_reward\"].sum()\n",
    "\n",
    "    rewards = {}\n",
    "    for validator in tqdm_notebook(all_validators):\n",
    "        validator_reward = validators_df[validators_df[\"validators\"].apply(lambda x: validator in x)].groupby(\"rounded_block\")[\"validator_reward\"].sum()\n",
    "        rewards[validator] = (validator_reward * AMOUNT_OF_TOKENS).to_dict()\n",
    "        \n",
    "    all_rewards[b] = rewards"
   ]
  },
  {
   "cell_type": "code",
   "execution_count": null,
   "metadata": {},
   "outputs": [],
   "source": [
    "sorted_validators = sorted(all_validators, key=lambda x: sum(all_rewards[0][x].values()))"
   ]
  },
  {
   "cell_type": "code",
   "execution_count": null,
   "metadata": {},
   "outputs": [],
   "source": [
    "def show_rewards_by_block(all_rewards, margin=0):\n",
    "    values = []\n",
    "    for block_range in validators_df[\"rounded_block\"].unique():\n",
    "        values.append([])\n",
    "        for validator in sorted_validators:\n",
    "            values[-1].append(all_rewards[validator].get(block_range, 0))\n",
    "\n",
    "    cmap = matplotlib.cm.get_cmap('Reds')\n",
    "    ind = np.arange(len(all_validators))    \n",
    "    width = 0.08\n",
    "    blocks_number = validators_df[\"rounded_block\"].nunique()\n",
    "    \n",
    "    bottom_values = np.zeros(len(values[0]))\n",
    "    for index, values_row in enumerate(values):\n",
    "        plt.barh(ind - margin * width, values_row, width, color=cmap(index / blocks_number), left=bottom_values)\n",
    "        bottom_values += values_row"
   ]
  },
  {
   "cell_type": "code",
   "execution_count": null,
   "metadata": {},
   "outputs": [],
   "source": [
    "plt.figure(figsize=(20, 20))\n",
    "\n",
    "for i, b in enumerate(b_step_simple_range):\n",
    "    show_rewards_by_block(all_rewards[b], i)\n",
    "    \n",
    "plt.xlabel('Validators')\n",
    "plt.title('Reward for each validator')\n",
    "indices = np.arange(len(all_validators)) - 0.08 * 0.5 * len(b_step_simple_range)\n",
    "plt.yticks(indices, sorted_validators)\n",
    "plt.show()"
   ]
  },
  {
   "cell_type": "markdown",
   "metadata": {},
   "source": [
    "Per each validator\n",
    "- More dark color represents the part of rewards won for more last blocks\n",
    "- Downward displayed rewards changing if coefficcient $\\frac{B}{K}$ increasing\n",
    "\n",
    "### Conclusion\n",
    "\n",
    "If $reward = K*height+B$ and increasing $\\frac{B}{K}$\n",
    "- new validators get less;\n",
    "- old validators get more.\n",
    "\n",
    "Rewwards depends on $\\frac{B}{K}$, not separate $B$ и $K$"
   ]
  },
  {
   "cell_type": "markdown",
   "metadata": {},
   "source": [
    "# Визуализация балансов"
   ]
  },
  {
   "cell_type": "code",
   "execution_count": null,
   "metadata": {},
   "outputs": [],
   "source": [
    "K = 1\n",
    "B = 0"
   ]
  },
  {
   "cell_type": "code",
   "execution_count": null,
   "metadata": {},
   "outputs": [],
   "source": [
    "validators_df[\"total_reward\"] = validators_df[\"block\"].apply(lambda x: linear(x, K, B)) \n",
    "validators_df[\"validator_reward\"] = validators_df[\"total_reward\"] / validators_df[\"total_validators\"] / validators_df[\"total_reward\"].sum()\n",
    "\n",
    "selected_rewards = {}\n",
    "for validator in tqdm_notebook(all_validators):\n",
    "    validator_reward = validators_df[\"validator_reward\"][validators_df[\"validators\"].apply(lambda x: validator in x)].sum()\n",
    "    selected_rewards[validator] = validator_reward"
   ]
  },
  {
   "cell_type": "code",
   "execution_count": null,
   "metadata": {},
   "outputs": [],
   "source": [
    "sorted_validators = sorted(all_validators, key=lambda x: selected_rewards[x])"
   ]
  },
  {
   "cell_type": "code",
   "execution_count": null,
   "metadata": {},
   "outputs": [],
   "source": [
    "data = [selected_rewards[v] for v in sorted_validators]"
   ]
  },
  {
   "cell_type": "code",
   "execution_count": null,
   "metadata": {},
   "outputs": [],
   "source": [
    "# Here you can name validators\n",
    "validator_names = {\n",
    "    sorted_validators[-1]: \"That guy\"\n",
    "}"
   ]
  },
  {
   "cell_type": "code",
   "execution_count": null,
   "metadata": {},
   "outputs": [],
   "source": [
    "def get_name(i):\n",
    "    validator_address = sorted_validators[i]\n",
    "    main_name = validator_names.get(validator_address, validator_address[0:5] + \"...\")\n",
    "    return main_name + \" ({0:.2f}%)\".format(selected_rewards[validator_address] * 100)"
   ]
  },
  {
   "cell_type": "code",
   "execution_count": null,
   "metadata": {},
   "outputs": [],
   "source": [
    "captions = [get_name(i) for i in range(len(sorted_validators))]"
   ]
  },
  {
   "cell_type": "code",
   "execution_count": null,
   "metadata": {},
   "outputs": [],
   "source": [
    "# Here you can combine last validators by changing `OMITTED` value\n",
    "OMITTED = 15\n",
    "data = [sum(data[:OMITTED])] + data[OMITTED:]\n",
    "captions = [\"\\n\".join(captions[:OMITTED])] + captions[OMITTED:]"
   ]
  },
  {
   "cell_type": "code",
   "execution_count": null,
   "metadata": {},
   "outputs": [],
   "source": [
    "fig, ax = plt.subplots(figsize=(20, 20), subplot_kw=dict(aspect=\"equal\"))\n",
    "\n",
    "wedges, texts = ax.pie(data, wedgeprops=dict(width=0.3), startangle=-40)\n",
    "\n",
    "bbox_props = dict(boxstyle=\"square,pad=0.3\", fc=\"w\", ec=\"k\", lw=0.72)\n",
    "kw = dict(arrowprops=dict(arrowstyle=\"-\"),\n",
    "          bbox=bbox_props, zorder=0, va=\"center\")\n",
    "\n",
    "for i, p in enumerate(wedges):\n",
    "    ang = (p.theta2 - p.theta1)/2. + p.theta1\n",
    "    y = np.sin(np.deg2rad(ang))\n",
    "    x = np.cos(np.deg2rad(ang))\n",
    "    horizontalalignment = {-1: \"right\", 1: \"left\"}[int(np.sign(x))]\n",
    "    connectionstyle = \"angle,angleA=0,angleB={}\".format(ang)\n",
    "    kw[\"arrowprops\"].update({\"connectionstyle\": connectionstyle})\n",
    "    ax.annotate(captions[i], xy=(x, y), xytext=(1.35*np.sign(x), 1.4*y),\n",
    "                horizontalalignment=horizontalalignment, fontsize=20, **kw)\n",
    "\n",
    "ax.set_title(\"Validators distribution\", fontsize=30)\n",
    "\n",
    "plt.show()"
   ]
  },
  {
   "cell_type": "markdown",
   "metadata": {},
   "source": [
    "### Составление таблицы с публичными ключами"
   ]
  },
  {
   "cell_type": "code",
   "execution_count": null,
   "metadata": {},
   "outputs": [],
   "source": [
    "NODE_HOST = os.environ[\"NODE_HOST\"]\n",
    "NODE_PORT = os.environ[\"NODE_PORT\"]"
   ]
  },
  {
   "cell_type": "code",
   "execution_count": null,
   "metadata": {},
   "outputs": [],
   "source": [
    "# Additional converter check\n",
    "assert base64_to_bech32(\"7GglL8LOiwNrYIiyGzsrEAaIvYn5iVqYLKG05TG5RXk=\") == \"cybervalconspub1zcjduepqa35z2t7ze69sx6mq3zepkwetzqrg30vflxy44xpv5x6w2vdeg4usdyhrzw\""
   ]
  },
  {
   "cell_type": "code",
   "execution_count": null,
   "metadata": {},
   "outputs": [],
   "source": [
    "# Get all base64 in according block\n",
    "validators_base64 = {}\n",
    "\n",
    "for validator in tqdm_notebook(all_validators):\n",
    "    first_block = validators_df[validators_df[\"validators\"].apply(lambda x: validator in x)][\"block\"].min()\n",
    "    response = requests.get(\"http://{}:{}/validators?height={}\".format(NODE_HOST, NODE_PORT, first_block)).json()\n",
    "    block_validators = response[\"result\"][\"validators\"]\n",
    "    pub_key = [v[\"pub_key\"][\"value\"] for v in block_validators if v[\"address\"] == validator][0]\n",
    "    validators_base64[validator] = pub_key"
   ]
  },
  {
   "cell_type": "code",
   "execution_count": null,
   "metadata": {},
   "outputs": [],
   "source": [
    "validators_base64"
   ]
  },
  {
   "cell_type": "code",
   "execution_count": null,
   "metadata": {
    "scrolled": true
   },
   "outputs": [],
   "source": [
    "validators_bech32 = {k: base64_to_bech32(v) for k, v in validators_base64.items()}"
   ]
  },
  {
   "cell_type": "code",
   "execution_count": null,
   "metadata": {},
   "outputs": [],
   "source": [
    "validators_bech32"
   ]
  },
  {
   "cell_type": "code",
   "execution_count": null,
   "metadata": {},
   "outputs": [],
   "source": [
    "operator_addresses_response = requests.get(\"http://{}:{}/staking/validators\".format(NODE_HOST, NODE_PORT)).json()\n",
    "\n",
    "operator_addresses = [{\n",
    "    \"operator_address\": address[\"operator_address\"],\n",
    "    \"consensus_pubkey\": address[\"consensus_pubkey\"]\n",
    "} for address in operator_addresses_response['result']]\n",
    "\n",
    "operator_addresses_df = pd.DataFrame(operator_addresses)"
   ]
  },
  {
   "cell_type": "code",
   "execution_count": null,
   "metadata": {},
   "outputs": [],
   "source": [
    "operator_addresses"
   ]
  },
  {
   "cell_type": "code",
   "execution_count": null,
   "metadata": {},
   "outputs": [],
   "source": [
    "balances_df = pd.Series({validators_bech32[k]: AMOUNT_OF_TOKENS * v for k, v in selected_rewards.items()})\\\n",
    "    .to_frame()\\\n",
    "    .reset_index()\\\n",
    "    .rename(columns={\n",
    "        0: \"balance\",\n",
    "        \"index\": \"pub\"\n",
    "    })"
   ]
  },
  {
   "cell_type": "code",
   "execution_count": null,
   "metadata": {},
   "outputs": [],
   "source": [
    "merged_balances_df = balances_df.merge(operator_addresses_df, how=\"left\", left_on=\"pub\", right_on=\"consensus_pubkey\")[[\"operator_address\", \"balance\"]]"
   ]
  },
  {
   "cell_type": "code",
   "execution_count": null,
   "metadata": {},
   "outputs": [],
   "source": [
    "merged_balances_df.to_csv(\"./balances.csv\", index=False, header=False)"
   ]
  },
  {
   "cell_type": "markdown",
   "metadata": {},
   "source": [
    "the result have saved in validators-investigation/data/notebook/balances.csv"
   ]
  }
 ],
 "metadata": {
  "kernelspec": {
   "display_name": "Python 3",
   "language": "python",
   "name": "python3"
  },
  "language_info": {
   "codemirror_mode": {
    "name": "ipython",
    "version": 3
   },
   "file_extension": ".py",
   "mimetype": "text/x-python",
   "name": "python",
   "nbconvert_exporter": "python",
   "pygments_lexer": "ipython3",
   "version": "3.7.0"
  }
 },
 "nbformat": 4,
 "nbformat_minor": 2
}
